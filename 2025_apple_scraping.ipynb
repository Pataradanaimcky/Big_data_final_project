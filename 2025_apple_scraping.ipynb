{
 "cells": [
  {
   "cell_type": "code",
   "execution_count": null,
   "id": "7e05bfca",
   "metadata": {},
   "outputs": [
    {
     "name": "stdout",
     "output_type": "stream",
     "text": [
      "\n",
      "Fetching historical data for AAPL using yfinance...\n",
      "Successfully fetched 252 records\n",
      "                       Date        Open        High         Low      Close*  \\\n",
      "0 2024-04-17 00:00:00-04:00  168.812899  169.848004  167.210464  167.210464   \n",
      "1 2024-04-18 00:00:00-04:00  167.240312  167.847446  165.767272  166.254959   \n",
      "2 2024-04-19 00:00:00-04:00  165.428868  165.617963  163.308874  164.224548   \n",
      "3 2024-04-22 00:00:00-04:00  164.742135  166.473948  163.995660  165.060623   \n",
      "4 2024-04-23 00:00:00-04:00  164.572913  166.264920  164.144925  166.115616   \n",
      "\n",
      "     Volume  Dividends  Stock Splits  \n",
      "0  50901200        0.0           0.0  \n",
      "1  43122900        0.0           0.0  \n",
      "2  67772100        0.0           0.0  \n",
      "3  48116400        0.0           0.0  \n",
      "4  49537800        0.0           0.0  \n",
      "Data saved to AAPL_yfinance_data_20250417.csv\n"
     ]
    }
   ],
   "source": [
    "import yfinance as yf\n",
    "import pandas as pd\n",
    "from datetime import datetime, timedelta\n",
    "\n",
    "def get_yahoo_finance_history_with_yfinance(ticker_symbol, period=\"1y\"):\n",
    "    try:\n",
    "        ticker = yf.Ticker(ticker_symbol)\n",
    "        \n",
    "        df = ticker.history(period=period)\n",
    "        \n",
    "        df = df.reset_index()\n",
    "        \n",
    "        df = df.rename(columns={\n",
    "            'Date': 'Date',\n",
    "            'Open': 'Open',\n",
    "            'High': 'High',\n",
    "            'Low': 'Low',\n",
    "            'Close': 'Close*',\n",
    "            'Volume': 'Volume',\n",
    "            'Dividends': 'Dividends',\n",
    "            'Stock Splits': 'Stock Splits'\n",
    "        })\n",
    "        \n",
    "        return df\n",
    "        \n",
    "    except Exception as e:\n",
    "        print(f\"An error occurred while fetching data with yfinance: {e}\")\n",
    "        return None\n",
    "\n",
    "if __name__ == \"__main__\":\n",
    "    ticker = \"AAPL\"\n",
    "    \n",
    "    print(f\"\\nFetching historical data for {ticker} using yfinance...\")\n",
    "    df = get_yahoo_finance_history_with_yfinance(ticker, period=\"1y\")\n",
    "    \n",
    "    if df is not None:\n",
    "        print(f\"Successfully fetched {len(df)} records\")\n",
    "        print(df.head())\n",
    "        \n",
    "        filename = f\"{ticker}_yfinance_data_{datetime.now().strftime('%Y%m%d')}.csv\"\n",
    "        df.to_csv(filename, index=False)\n",
    "        print(f\"Data saved to {filename}\")"
   ]
  }
 ],
 "metadata": {
  "kernelspec": {
   "display_name": "base",
   "language": "python",
   "name": "python3"
  },
  "language_info": {
   "codemirror_mode": {
    "name": "ipython",
    "version": 3
   },
   "file_extension": ".py",
   "mimetype": "text/x-python",
   "name": "python",
   "nbconvert_exporter": "python",
   "pygments_lexer": "ipython3",
   "version": "3.11.7"
  }
 },
 "nbformat": 4,
 "nbformat_minor": 5
}
